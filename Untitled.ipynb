{
 "cells": [
  {
   "cell_type": "code",
   "execution_count": 11,
   "metadata": {},
   "outputs": [],
   "source": [
    "import sqlite3\n",
    "from tqdm import tqdm\n",
    "import requests "
   ]
  },
  {
   "cell_type": "code",
   "execution_count": 2,
   "metadata": {},
   "outputs": [
    {
     "name": "stdout",
     "output_type": "stream",
     "text": [
      "2.6.0\n"
     ]
    }
   ],
   "source": [
    "cnxn = sqlite3.connect( \"./0_DataCollection/LRS_DATA.db\" )\n",
    "print(sqlite3.version)\n",
    "cursor=cnxn.cursor() "
   ]
  },
  {
   "cell_type": "code",
   "execution_count": 28,
   "metadata": {},
   "outputs": [],
   "source": [
    "query = \"SELECT * FROM agenda_items\"\n",
    "cursor.execute(query)\n",
    "data = cursor.fetchall()"
   ]
  },
  {
   "cell_type": "code",
   "execution_count": 29,
   "metadata": {},
   "outputs": [
    {
     "data": {
      "text/plain": [
       "[]"
      ]
     },
     "execution_count": 29,
     "metadata": {},
     "output_type": "execute_result"
    }
   ],
   "source": [
    "data[0:3]"
   ]
  },
  {
   "cell_type": "code",
   "execution_count": 26,
   "metadata": {},
   "outputs": [
    {
     "name": "stderr",
     "output_type": "stream",
     "text": [
      "100%|██████████| 3/3 [00:00<00:00, 11.60it/s]\n"
     ]
    }
   ],
   "source": [
    "sitting_ids = [str(row[1]) for row in data[0:3]]\n",
    "xmls = []\n",
    "sittings_url = \"https://apps.lrs.lt/sip/p2b.ad_seimo_pos_darb?posedzio_id=\"\n",
    "for ids in tqdm(sitting_ids):\n",
    "    result = requests.get(sittings_url + str(ids))\n",
    "    xmls.append(result.text)"
   ]
  },
  {
   "cell_type": "code",
   "execution_count": 27,
   "metadata": {},
   "outputs": [
    {
     "data": {
      "text/plain": [
       "['<?xml version=\"1.0\" encoding=\"UTF-8\"?>\\n<SeimoInformacija pavadinimas=\"Seimo posėdžio darbotvarkė\" suformavimo_laikas=\"2021-02-06 14:54:58\" šaltinis=\"www.lrs.lt\" tiekėjas=\"Seimo kanceliarija\" licencija=\"CC BY 4.0\">\\n<SeimoPosėdis posėdžio_id=\"-499933\" numeris=\"-1\" tipas=\"Rytinis posėdis\" laikas_nuo=\"1990-05-19 00:00\" laikas_iki=\"\">\\n</SeimoPosėdis>\\n</SeimoInformacija>\\n',\n",
       " '<?xml version=\"1.0\" encoding=\"UTF-8\"?>\\n<SeimoInformacija pavadinimas=\"Seimo posėdžio darbotvarkė\" suformavimo_laikas=\"2021-02-06 14:54:58\" šaltinis=\"www.lrs.lt\" tiekėjas=\"Seimo kanceliarija\" licencija=\"CC BY 4.0\">\\n<SeimoPosėdis posėdžio_id=\"-499936\" numeris=\"-1\" tipas=\"Uždaras posėdis\" laikas_nuo=\"1990-05-16 00:00\" laikas_iki=\"\">\\n</SeimoPosėdis>\\n</SeimoInformacija>\\n',\n",
       " '<?xml version=\"1.0\" encoding=\"UTF-8\"?>\\n<SeimoInformacija pavadinimas=\"Seimo posėdžio darbotvarkė\" suformavimo_laikas=\"2021-02-06 14:54:58\" šaltinis=\"www.lrs.lt\" tiekėjas=\"Seimo kanceliarija\" licencija=\"CC BY 4.0\">\\n<SeimoPosėdis posėdžio_id=\"-499995\" numeris=\"-1\" tipas=\"Uždaras posėdis\" laikas_nuo=\"1990-03-12 00:00\" laikas_iki=\"\">\\n</SeimoPosėdis>\\n</SeimoInformacija>\\n']"
      ]
     },
     "execution_count": 27,
     "metadata": {},
     "output_type": "execute_result"
    }
   ],
   "source": [
    "xmls"
   ]
  },
  {
   "cell_type": "code",
   "execution_count": 20,
   "metadata": {},
   "outputs": [
    {
     "data": {
      "text/plain": [
       "['-499933', '-499936', '-499995']"
      ]
     },
     "execution_count": 20,
     "metadata": {},
     "output_type": "execute_result"
    }
   ],
   "source": [
    "sitting_ids"
   ]
  },
  {
   "cell_type": "code",
   "execution_count": null,
   "metadata": {},
   "outputs": [],
   "source": [
    "https://apps.lrs.lt/sip/p2b.ad_seimo_pos_darb?posedzio_id=-499933"
   ]
  }
 ],
 "metadata": {
  "kernelspec": {
   "display_name": "Python 3",
   "language": "python",
   "name": "python3"
  },
  "language_info": {
   "codemirror_mode": {
    "name": "ipython",
    "version": 3
   },
   "file_extension": ".py",
   "mimetype": "text/x-python",
   "name": "python",
   "nbconvert_exporter": "python",
   "pygments_lexer": "ipython3",
   "version": "3.7.6"
  }
 },
 "nbformat": 4,
 "nbformat_minor": 2
}
